{
  "cells": [
    {
      "cell_type": "markdown",
      "metadata": {
        "id": "view-in-github",
        "colab_type": "text"
      },
      "source": [
        "<a href=\"https://colab.research.google.com/github/LeonelOctavio/Actividad2/blob/main/Tarea_fashion_.ipynb\" target=\"_parent\"><img src=\"https://colab.research.google.com/assets/colab-badge.svg\" alt=\"Open In Colab\"/></a>"
      ]
    },
    {
      "cell_type": "code",
      "execution_count": 64,
      "id": "5925112a",
      "metadata": {
        "id": "5925112a"
      },
      "outputs": [],
      "source": [
        "#Info\n",
        "\n",
        "#    0 T-shirt/top\n",
        "#    1 Trouser\n",
        "#    2 Pullover\n",
        "#    3 Dress\n",
        "#    4 Coat\n",
        "#    5 Sandal\n",
        "#    6 Shirt\n",
        "#    7 Sneaker\n",
        "#    8 Bag\n",
        "#    9 Ankle boot\n"
      ]
    },
    {
      "cell_type": "code",
      "execution_count": 65,
      "id": "ffc8ad8c",
      "metadata": {
        "id": "ffc8ad8c"
      },
      "outputs": [],
      "source": [
        "# Extracción de datos MNIST\n",
        "import os\n",
        "import struct\n",
        "import numpy as np\n",
        "\n",
        "def load_mnist(path, kind='train'):\n",
        "    \"\"\"Load MNIST data from path\"\"\"\n",
        "    labels_path = os.path.join(path, '%s-labels-idx1-ubyte' % kind)\n",
        "    images_path = os.path.join(path, '%s-images-idx3-ubyte' % kind)\n",
        "\n",
        "    with open(labels_path, 'rb') as lbpath:\n",
        "        magic, n = struct.unpack('>II', lbpath.read(8))\n",
        "        labels = np.fromfile(lbpath, dtype=np.uint8)\n",
        "\n",
        "    with open(images_path, 'rb') as imgpath:\n",
        "        magic, num, rows, cols = struct.unpack('>IIII', imgpath.read(16))\n",
        "        images = np.fromfile(imgpath, dtype=np.uint8).reshape( len(labels), 784)\n",
        "        images = ((images / 255.) - .5) * 2\n",
        "\n",
        "    return images, labels"
      ]
    },
    {
      "cell_type": "code",
      "execution_count": 66,
      "id": "0e3a30d2",
      "metadata": {
        "colab": {
          "base_uri": "https://localhost:8080/"
        },
        "id": "0e3a30d2",
        "outputId": "a3140590-5f71-45fe-9e8d-6a6944b2f4f0"
      },
      "outputs": [
        {
          "output_type": "stream",
          "name": "stdout",
          "text": [
            "Rows: 60000, columns: 784\n",
            "Rows: 10000, columns: 784\n"
          ]
        }
      ],
      "source": [
        "# Separación en conjuntos de entrenamiento y prueba\n",
        "X_train, y_train = load_mnist('datasets/', kind='train')\n",
        "print('Rows: %d, columns: %d' % (X_train.shape[0], X_train.shape[1]))\n",
        "\n",
        "X_test, y_test = load_mnist('datasets/', kind='t10k')\n",
        "print('Rows: %d, columns: %d' % (X_test.shape[0], X_test.shape[1]))"
      ]
    },
    {
      "cell_type": "code",
      "execution_count": 67,
      "id": "e82b4d22",
      "metadata": {
        "colab": {
          "base_uri": "https://localhost:8080/",
          "height": 338
        },
        "id": "e82b4d22",
        "outputId": "c00aa91e-9e96-4717-951a-59c338b40ec4"
      },
      "outputs": [
        {
          "output_type": "display_data",
          "data": {
            "text/plain": [
              "<Figure size 640x480 with 10 Axes>"
            ],
            "image/png": "[encoded data removed]"
          },
          "metadata": {}
        }
      ],
      "source": [
        "# Visualización del contenido\n",
        "%matplotlib inline\n",
        "import matplotlib.pyplot as plt\n",
        "\n",
        "fig, ax = plt.subplots(nrows=2, ncols=5, sharex=True, sharey= True)\n",
        "\n",
        "ax = ax.flatten()\n",
        "\n",
        "for i in range(10):\n",
        "    img = X_train[y_train == i][0].reshape(28,28)\n",
        "    ax[i].imshow(img, cmap='Greys')\n",
        "\n",
        "ax[0].set_xticks([])\n",
        "ax[0].set_yticks([])\n",
        "plt.tight_layout()\n",
        "plt.show()"
      ]
    },
    {
      "cell_type": "code",
      "execution_count": 163,
      "id": "1f38cb04",
      "metadata": {
        "id": "1f38cb04",
        "colab": {
          "base_uri": "https://localhost:8080/"
        },
        "outputId": "2c71e328-664b-42f6-faa8-35a19641f119"
      },
      "outputs": [
        {
          "output_type": "stream",
          "name": "stdout",
          "text": [
            "mkdir: cannot create directory ‘savez_data’: File exists\n"
          ]
        }
      ],
      "source": [
        "# Creación de un directorio para almacenar datos\n",
        "!mkdir savez_data"
      ]
    },
    {
      "cell_type": "code",
      "execution_count": 135,
      "id": "50790c4e",
      "metadata": {
        "colab": {
          "base_uri": "https://localhost:8080/",
          "height": 338
        },
        "id": "50790c4e",
        "outputId": "c3c9038f-ee89-4d0c-926e-83ca1983924c"
      },
      "outputs": [
        {
          "output_type": "display_data",
          "data": {
            "text/plain": [
              "<Figure size 640x480 with 10 Axes>"
            ],
            "image/png": "[encoded data removed]"
          },
          "metadata": {}
        }
      ],
      "source": [
        "#Mostramos la secciòn de las bags 8\n",
        "fig, ax = plt.subplots(nrows=2, ncols=5, sharex=True, sharey=True)\n",
        "ax = ax.flatten()\n",
        "for i in range(10):\n",
        "  img = X_train[y_train == 8][i].reshape(28,28)\n",
        "  ax[i].imshow(img, cmap='Greys')\n",
        "ax[0].set_xticks([])\n",
        "ax[0].set_yticks([])\n",
        "plt.tight_layout()\n",
        "plt.show()"
      ]
    },
    {
      "cell_type": "code",
      "execution_count": 70,
      "id": "4b01e4ab",
      "metadata": {
        "id": "4b01e4ab"
      },
      "outputs": [],
      "source": [
        "# Almacenamiento de las variables de entrenamiento y prueba\n",
        "from re import X\n",
        "import numpy as np\n",
        "\n",
        "np.savez_compressed('savez_data/mnist_scaled.npz',\n",
        "                    X_train=X_train,\n",
        "                    y_train=y_train,\n",
        "                    X_test=X_test,\n",
        "                    y_test=y_test)"
      ]
    },
    {
      "cell_type": "code",
      "execution_count": 71,
      "id": "e77e33fb",
      "metadata": {
        "colab": {
          "base_uri": "https://localhost:8080/"
        },
        "id": "e77e33fb",
        "outputId": "d5c75003-f8ac-4c80-f810-e436a0c10b82"
      },
      "outputs": [
        {
          "output_type": "stream",
          "name": "stdout",
          "text": [
            "mnist_scaled.npz\n"
          ]
        }
      ],
      "source": [
        "# Listar contenido del directorio \"savez_data\"\n",
        "!ls savez_data"
      ]
    },
    {
      "cell_type": "code",
      "execution_count": 72,
      "id": "300de3d0",
      "metadata": {
        "id": "300de3d0"
      },
      "outputs": [],
      "source": [
        "#Cargamos el archivo\n",
        "mnist = np.load('savez_data/mnist_scaled.npz')"
      ]
    },
    {
      "cell_type": "code",
      "execution_count": 73,
      "id": "f1bb1198",
      "metadata": {
        "colab": {
          "base_uri": "https://localhost:8080/"
        },
        "id": "f1bb1198",
        "outputId": "a8728834-fdad-4a09-dc1d-42613fbe4b8a"
      },
      "outputs": [
        {
          "output_type": "execute_result",
          "data": {
            "text/plain": [
              "['X_train', 'y_train', 'X_test', 'y_test']"
            ]
          },
          "metadata": {},
          "execution_count": 73
        }
      ],
      "source": [
        "#Mostramos las variales\n",
        "mnist.files"
      ]
    },
    {
      "cell_type": "code",
      "execution_count": 165,
      "id": "50c807ef",
      "metadata": {
        "colab": {
          "base_uri": "https://localhost:8080/"
        },
        "id": "50c807ef",
        "outputId": "646f42ed-c8c7-47be-fe4c-8eff99109e07"
      },
      "outputs": [
        {
          "output_type": "execute_result",
          "data": {
            "text/plain": [
              "array([[-1., -1., -1., ..., -1., -1., -1.],\n",
              "       [-1., -1., -1., ..., -1., -1., -1.],\n",
              "       [-1., -1., -1., ..., -1., -1., -1.],\n",
              "       ...,\n",
              "       [-1., -1., -1., ..., -1., -1., -1.],\n",
              "       [-1., -1., -1., ..., -1., -1., -1.],\n",
              "       [-1., -1., -1., ..., -1., -1., -1.]])"
            ]
          },
          "metadata": {},
          "execution_count": 165
        }
      ],
      "source": [
        "# Asignación del contenido de 'X_train' desde el objeto 'mnist' a 'X_train'\n",
        "X_train = mnist['X_train']\n",
        "X_train"
      ]
    },
    {
      "cell_type": "code",
      "execution_count": 75,
      "id": "5812e567",
      "metadata": {
        "id": "5812e567"
      },
      "outputs": [],
      "source": [
        "# Extracción de variables 'X_train', 'y_train', 'X_test' y 'y_test' desde el objeto 'mnist'\n",
        "X_train, y_train, X_test, y_test = [mnist[f] for f in mnist.files]"
      ]
    },
    {
      "cell_type": "code",
      "execution_count": 129,
      "id": "7808a8a9",
      "metadata": {
        "id": "7808a8a9"
      },
      "outputs": [],
      "source": [
        "# Creación de variables para categoría \"bag\" (bolso), donde 8 representa la categoría del 0 al 9 y_train_bag = (y_train == 8)\n",
        "y_test_bag = (y_test == 8)"
      ]
    },
    {
      "cell_type": "code",
      "execution_count": 166,
      "id": "d859dd23",
      "metadata": {
        "colab": {
          "base_uri": "https://localhost:8080/",
          "height": 75
        },
        "id": "d859dd23",
        "outputId": "8a673260-05b1-4041-9062-0a5aafe0ecaf"
      },
      "outputs": [
        {
          "output_type": "execute_result",
          "data": {
            "text/plain": [
              "SGDClassifier(random_state=42, tol=1e-05)"
            ],
            "text/html": [
              "<style>#sk-container-id-6 {color: black;background-color: white;}#sk-container-id-6 pre{padding: 0;}#sk-container-id-6 div.sk-toggleable {background-color: white;}#sk-container-id-6 label.sk-toggleable__label {cursor: pointer;display: block;width: 100%;margin-bottom: 0;padding: 0.3em;box-sizing: border-box;text-align: center;}#sk-container-id-6 label.sk-toggleable__label-arrow:before {content: \"▸\";float: left;margin-right: 0.25em;color: #696969;}#sk-container-id-6 label.sk-toggleable__label-arrow:hover:before {color: black;}#sk-container-id-6 div.sk-estimator:hover label.sk-toggleable__label-arrow:before {color: black;}#sk-container-id-6 div.sk-toggleable__content {max-height: 0;max-width: 0;overflow: hidden;text-align: left;background-color: #f0f8ff;}#sk-container-id-6 div.sk-toggleable__content pre {margin: 0.2em;color: black;border-radius: 0.25em;background-color: #f0f8ff;}#sk-container-id-6 input.sk-toggleable__control:checked~div.sk-toggleable__content {max-height: 200px;max-width: 100%;overflow: auto;}#sk-container-id-6 input.sk-toggleable__control:checked~label.sk-toggleable__label-arrow:before {content: \"▾\";}#sk-container-id-6 div.sk-estimator input.sk-toggleable__control:checked~label.sk-toggleable__label {background-color: #d4ebff;}#sk-container-id-6 div.sk-label input.sk-toggleable__control:checked~label.sk-toggleable__label {background-color: #d4ebff;}#sk-container-id-6 input.sk-hidden--visually {border: 0;clip: rect(1px 1px 1px 1px);clip: rect(1px, 1px, 1px, 1px);height: 1px;margin: -1px;overflow: hidden;padding: 0;position: absolute;width: 1px;}#sk-container-id-6 div.sk-estimator {font-family: monospace;background-color: #f0f8ff;border: 1px dotted black;border-radius: 0.25em;box-sizing: border-box;margin-bottom: 0.5em;}#sk-container-id-6 div.sk-estimator:hover {background-color: #d4ebff;}#sk-container-id-6 div.sk-parallel-item::after {content: \"\";width: 100%;border-bottom: 1px solid gray;flex-grow: 1;}#sk-container-id-6 div.sk-label:hover label.sk-toggleable__label {background-color: #d4ebff;}#sk-container-id-6 div.sk-serial::before {content: \"\";position: absolute;border-left: 1px solid gray;box-sizing: border-box;top: 0;bottom: 0;left: 50%;z-index: 0;}#sk-container-id-6 div.sk-serial {display: flex;flex-direction: column;align-items: center;background-color: white;padding-right: 0.2em;padding-left: 0.2em;position: relative;}#sk-container-id-6 div.sk-item {position: relative;z-index: 1;}#sk-container-id-6 div.sk-parallel {display: flex;align-items: stretch;justify-content: center;background-color: white;position: relative;}#sk-container-id-6 div.sk-item::before, #sk-container-id-6 div.sk-parallel-item::before {content: \"\";position: absolute;border-left: 1px solid gray;box-sizing: border-box;top: 0;bottom: 0;left: 50%;z-index: -1;}#sk-container-id-6 div.sk-parallel-item {display: flex;flex-direction: column;z-index: 1;position: relative;background-color: white;}#sk-container-id-6 div.sk-parallel-item:first-child::after {align-self: flex-end;width: 50%;}#sk-container-id-6 div.sk-parallel-item:last-child::after {align-self: flex-start;width: 50%;}#sk-container-id-6 div.sk-parallel-item:only-child::after {width: 0;}#sk-container-id-6 div.sk-dashed-wrapped {border: 1px dashed gray;margin: 0 0.4em 0.5em 0.4em;box-sizing: border-box;padding-bottom: 0.4em;background-color: white;}#sk-container-id-6 div.sk-label label {font-family: monospace;font-weight: bold;display: inline-block;line-height: 1.2em;}#sk-container-id-6 div.sk-label-container {text-align: center;}#sk-container-id-6 div.sk-container {/* jupyter's `normalize.less` sets `[hidden] { display: none; }` but bootstrap.min.css set `[hidden] { display: none !important; }` so we also need the `!important` here to be able to override the default hidden behavior on the sphinx rendered scikit-learn.org. See: https://github.com/scikit-learn/scikit-learn/issues/21755 */display: inline-block !important;position: relative;}#sk-container-id-6 div.sk-text-repr-fallback {display: none;}</style><div id=\"sk-container-id-6\" class=\"sk-top-container\"><div class=\"sk-text-repr-fallback\"><pre>SGDClassifier(random_state=42, tol=1e-05)</pre><b>In a Jupyter environment, please rerun this cell to show the HTML representation or trust the notebook. <br />On GitHub, the HTML representation is unable to render, please try loading this page with nbviewer.org.</b></div><div class=\"sk-container\" hidden><div class=\"sk-item\"><div class=\"sk-estimator sk-toggleable\"><input class=\"sk-toggleable__control sk-hidden--visually\" id=\"sk-estimator-id-6\" type=\"checkbox\" checked><label for=\"sk-estimator-id-6\" class=\"sk-toggleable__label sk-toggleable__label-arrow\">SGDClassifier</label><div class=\"sk-toggleable__content\"><pre>SGDClassifier(random_state=42, tol=1e-05)</pre></div></div></div></div></div>"
            ]
          },
          "metadata": {},
          "execution_count": 166
        }
      ],
      "source": [
        "#Creamos un clasificador para la categoria bag 8\n",
        "from sklearn.linear_model import SGDClassifier\n",
        "\n",
        "sgd_clf = SGDClassifier(max_iter=1000, tol=0.00001, random_state=42)\n",
        "sgd_clf.fit(X_train, y_train_bag)"
      ]
    },
    {
      "cell_type": "code",
      "execution_count": 138,
      "id": "250f5f2c",
      "metadata": {
        "colab": {
          "base_uri": "https://localhost:8080/",
          "height": 406
        },
        "id": "250f5f2c",
        "outputId": "f59d89cb-4c08-4913-9adc-05135ef3fb12"
      },
      "outputs": [
        {
          "output_type": "display_data",
          "data": {
            "text/plain": [
              "<Figure size 640x480 with 1 Axes>"
            ],
            "image/png": "[encoded data removed]"
          },
          "metadata": {}
        }
      ],
      "source": [
        "#Prueba 1 ver si es una bolsa\n",
        "import matplotlib\n",
        "import matplotlib.pyplot as plt\n",
        "\n",
        "some_digit = X_train[11000]\n",
        "some_digit_image = some_digit.reshape(28, 28)\n",
        "\n",
        "plt.imshow(some_digit_image, cmap=matplotlib.cm.binary, interpolation='nearest')\n",
        "plt.axis('off')\n",
        "plt.show()"
      ]
    },
    {
      "cell_type": "code",
      "execution_count": 139,
      "id": "11a8de37",
      "metadata": {
        "colab": {
          "base_uri": "https://localhost:8080/"
        },
        "id": "11a8de37",
        "outputId": "5a551ddf-6194-4807-9166-3d54a6abd46e"
      },
      "outputs": [
        {
          "output_type": "execute_result",
          "data": {
            "text/plain": [
              "array([ True])"
            ]
          },
          "metadata": {},
          "execution_count": 139
        }
      ],
      "source": [
        "#Utilizamos el clasificador para saber si es bag 8\n",
        "sgd_clf.predict([some_digit])"
      ]
    },
    {
      "cell_type": "code",
      "execution_count": 143,
      "id": "b5ddb820",
      "metadata": {
        "colab": {
          "base_uri": "https://localhost:8080/",
          "height": 406
        },
        "id": "b5ddb820",
        "outputId": "2ac6041a-7bd4-4570-f28f-d80f9aa389dc"
      },
      "outputs": [
        {
          "output_type": "display_data",
          "data": {
            "text/plain": [
              "<Figure size 640x480 with 1 Axes>"
            ],
            "image/png": "[encoded data removed]"
          },
          "metadata": {}
        }
      ],
      "source": [
        "#Prueba 2: Categoria bag si es bolsa o no\n",
        "import matplotlib\n",
        "import matplotlib.pyplot as plt\n",
        "\n",
        "some_digit = X_train[10000]\n",
        "some_digit_image = some_digit.reshape(28, 28)\n",
        "\n",
        "plt.imshow(some_digit_image, cmap=matplotlib.cm.binary, interpolation='nearest')\n",
        "plt.axis('off')\n",
        "plt.show()"
      ]
    },
    {
      "cell_type": "code",
      "execution_count": 144,
      "id": "17161737",
      "metadata": {
        "colab": {
          "base_uri": "https://localhost:8080/"
        },
        "id": "17161737",
        "outputId": "1f27ac1c-17a6-4c99-e5eb-7e3c1e59eea3"
      },
      "outputs": [
        {
          "output_type": "execute_result",
          "data": {
            "text/plain": [
              "array([ True])"
            ]
          },
          "metadata": {},
          "execution_count": 144
        }
      ],
      "source": [
        "#Utilizamos el clasificador para saber si es bag 8\n",
        "sgd_clf.predict([some_digit])"
      ]
    },
    {
      "cell_type": "code",
      "execution_count": 145,
      "id": "3d0f486e",
      "metadata": {
        "colab": {
          "base_uri": "https://localhost:8080/"
        },
        "id": "3d0f486e",
        "outputId": "792896d2-0cc4-488c-cb7d-7f0ea075b595"
      },
      "outputs": [
        {
          "output_type": "execute_result",
          "data": {
            "text/plain": [
              "array([0.98375, 0.98375, 0.98565])"
            ]
          },
          "metadata": {},
          "execution_count": 145
        }
      ],
      "source": [
        "#Calculamos cross_val_score con un cv=3\n",
        "from sklearn.model_selection import cross_val_score\n",
        "\n",
        "cross_val_score(sgd_clf, X_train, y_train_bag, cv=3, scoring='accuracy')"
      ]
    },
    {
      "cell_type": "code",
      "execution_count": 83,
      "id": "6502faaa",
      "metadata": {
        "id": "6502faaa",
        "colab": {
          "base_uri": "https://localhost:8080/"
        },
        "outputId": "070ec8c6-58f3-42d6-f64f-a4e5c22a2a32"
      },
      "outputs": [
        {
          "output_type": "stream",
          "name": "stdout",
          "text": [
            "0.9244499999999999\n"
          ]
        }
      ],
      "source": [
        "#Promedio de to\n",
        "suma = (0.92405 + 0.92245 + 0.92685)/3\n",
        "print(suma)"
      ]
    },
    {
      "cell_type": "code",
      "execution_count": 146,
      "id": "bae47ea5",
      "metadata": {
        "colab": {
          "base_uri": "https://localhost:8080/"
        },
        "id": "bae47ea5",
        "outputId": "fdd5e6bc-62dc-415b-cb5d-8fc6d93f5a5c"
      },
      "outputs": [
        {
          "output_type": "execute_result",
          "data": {
            "text/plain": [
              "array([0.98608333, 0.98583333, 0.986     , 0.984     , 0.98375   ])"
            ]
          },
          "metadata": {},
          "execution_count": 146
        }
      ],
      "source": [
        "#Calculamos cross_val_score con un cv=5\n",
        "cross_val_score(sgd_clf, X_train, y_train_bag, cv=5, scoring='accuracy')"
      ]
    },
    {
      "cell_type": "code",
      "execution_count": 85,
      "id": "34425379",
      "metadata": {
        "colab": {
          "base_uri": "https://localhost:8080/"
        },
        "id": "34425379",
        "outputId": "c4bd4009-c0a1-485e-e203-89ada113b62b"
      },
      "outputs": [
        {
          "output_type": "stream",
          "name": "stdout",
          "text": [
            "0.9204666679999999\n"
          ]
        }
      ],
      "source": [
        "#Promedio de to\n",
        "suma = (0.9195 + 0.925 + 0.92341667 + 0.91141667 + 0.923)/5\n",
        "print(suma)"
      ]
    },
    {
      "cell_type": "code",
      "execution_count": 86,
      "id": "8d1475d2",
      "metadata": {
        "id": "8d1475d2"
      },
      "outputs": [],
      "source": [
        "from sklearn.base import BaseEstimator\n",
        "\n",
        "class NeverShirtClassifier(BaseEstimator):\n",
        "    def fit(self, X, y=None):\n",
        "        pass\n",
        "    def predict(self, X):\n",
        "        return np.zeros((len(X),1), dtype=bool)"
      ]
    },
    {
      "cell_type": "code",
      "execution_count": 147,
      "id": "62e04e47",
      "metadata": {
        "colab": {
          "base_uri": "https://localhost:8080/"
        },
        "id": "62e04e47",
        "outputId": "7a6c34f5-55c7-4fe0-db24-199f180a3817"
      },
      "outputs": [
        {
          "output_type": "execute_result",
          "data": {
            "text/plain": [
              "array([0.90145, 0.89855, 0.9    ])"
            ]
          },
          "metadata": {},
          "execution_count": 147
        }
      ],
      "source": [
        "# Creación de un clasificador que siempre predice Not bag\n",
        "never_shirt_clf = NeverShirtClassifier()\n",
        "cross_val_score(never_shirt_clf, X_train, y_train_bag, cv=3, scoring=\"accuracy\")"
      ]
    },
    {
      "cell_type": "code",
      "execution_count": 148,
      "id": "9e492ec1",
      "metadata": {
        "id": "9e492ec1"
      },
      "outputs": [],
      "source": [
        "# Validación y almacenamiento de las predicciones en la variable 'y_train_pred'\n",
        "from sklearn.model_selection import cross_val_predict\n",
        "\n",
        "y_train_pred = cross_val_predict(sgd_clf, X_train, y_train_bag, cv=3)"
      ]
    },
    {
      "cell_type": "markdown",
      "id": "a562c9de",
      "metadata": {
        "id": "a562c9de"
      },
      "source": [
        "### Matrices de confusión"
      ]
    },
    {
      "cell_type": "code",
      "execution_count": 149,
      "id": "5ef2cbe5",
      "metadata": {
        "colab": {
          "base_uri": "https://localhost:8080/"
        },
        "id": "5ef2cbe5",
        "outputId": "ba857af1-3164-48e5-d09d-53f905124751"
      },
      "outputs": [
        {
          "output_type": "execute_result",
          "data": {
            "text/plain": [
              "array([[53684,   316],\n",
              "       [  621,  5379]])"
            ]
          },
          "metadata": {},
          "execution_count": 149
        }
      ],
      "source": [
        "#Generamos una matriz de confusión\n",
        "from sklearn.metrics import confusion_matrix\n",
        "\n",
        "conf_matrix = confusion_matrix(y_train_bag, y_train_pred)\n",
        "conf_matrix"
      ]
    },
    {
      "cell_type": "code",
      "execution_count": 150,
      "id": "f86743f5",
      "metadata": {
        "colab": {
          "base_uri": "https://localhost:8080/"
        },
        "id": "f86743f5",
        "outputId": "5fd2ad3b-f1fb-4160-e2b0-a4af3c369bb6"
      },
      "outputs": [
        {
          "output_type": "execute_result",
          "data": {
            "text/plain": [
              "array([[54000,     0],\n",
              "       [    0,  6000]])"
            ]
          },
          "metadata": {},
          "execution_count": 150
        }
      ],
      "source": [
        "y_train_perfect_predition = y_train_bag\n",
        "confusion_matrix(y_train_bag, y_train_perfect_predition)"
      ]
    },
    {
      "cell_type": "markdown",
      "id": "8c107e64",
      "metadata": {
        "id": "8c107e64"
      },
      "source": [
        "### Precission Score"
      ]
    },
    {
      "cell_type": "code",
      "execution_count": 151,
      "id": "49f62a6f",
      "metadata": {
        "colab": {
          "base_uri": "https://localhost:8080/"
        },
        "id": "49f62a6f",
        "outputId": "e301fdac-e0dc-4783-d1fa-f75f49115046"
      },
      "outputs": [
        {
          "output_type": "execute_result",
          "data": {
            "text/plain": [
              "0.9445127304653205"
            ]
          },
          "metadata": {},
          "execution_count": 151
        }
      ],
      "source": [
        "# Cálculo de la métrica de precisión\n",
        "from sklearn.metrics import precision_score, recall_score\n",
        "\n",
        "precision_score(y_train_bag, y_train_pred)"
      ]
    },
    {
      "cell_type": "code",
      "execution_count": 92,
      "id": "ff8a454b",
      "metadata": {
        "colab": {
          "base_uri": "https://localhost:8080/"
        },
        "id": "ff8a454b",
        "outputId": "bbe25ad7-4022-49b1-f951-7fb0946a3b12"
      },
      "outputs": [
        {
          "output_type": "execute_result",
          "data": {
            "text/plain": [
              "0.7172046194847498"
            ]
          },
          "metadata": {},
          "execution_count": 92
        }
      ],
      "source": [
        "#2nda forma de calcular la mètrica de precisiòn\n",
        "conf_matrix[1, 1] / (conf_matrix[1, 1]+conf_matrix[0, 1])"
      ]
    },
    {
      "cell_type": "code",
      "execution_count": 152,
      "id": "e0393b8f",
      "metadata": {
        "colab": {
          "base_uri": "https://localhost:8080/"
        },
        "id": "e0393b8f",
        "outputId": "65df91b9-edda-41d3-e1b8-98bc3f0fbc04"
      },
      "outputs": [
        {
          "output_type": "execute_result",
          "data": {
            "text/plain": [
              "0.8965"
            ]
          },
          "metadata": {},
          "execution_count": 152
        }
      ],
      "source": [
        "#mètrica de recuperaciòn\n",
        "recall_score(y_train_bag, y_train_pred)"
      ]
    },
    {
      "cell_type": "code",
      "execution_count": 94,
      "id": "8a92feae",
      "metadata": {
        "colab": {
          "base_uri": "https://localhost:8080/"
        },
        "id": "8a92feae",
        "outputId": "75054c2b-8194-44e9-e826-c887bd685e21"
      },
      "outputs": [
        {
          "output_type": "execute_result",
          "data": {
            "text/plain": [
              "0.4036666666666667"
            ]
          },
          "metadata": {},
          "execution_count": 94
        }
      ],
      "source": [
        "#Otra forma de calcular la métrica de recuperación\n",
        "conf_matrix[1, 1] / (conf_matrix[1, 1]+conf_matrix[1, 0])"
      ]
    },
    {
      "cell_type": "code",
      "execution_count": 153,
      "id": "30efe88e",
      "metadata": {
        "colab": {
          "base_uri": "https://localhost:8080/"
        },
        "id": "30efe88e",
        "outputId": "482a6d35-3a39-465a-de1f-3b95ef4043d3"
      },
      "outputs": [
        {
          "output_type": "execute_result",
          "data": {
            "text/plain": [
              "0.919880290722531"
            ]
          },
          "metadata": {},
          "execution_count": 153
        }
      ],
      "source": [
        "#Calculamos la puntuación F1\n",
        "from sklearn.metrics import f1_score\n",
        "\n",
        "f1_score(y_train_bag, y_train_pred)"
      ]
    },
    {
      "cell_type": "code",
      "execution_count": 96,
      "id": "29a06537",
      "metadata": {
        "colab": {
          "base_uri": "https://localhost:8080/"
        },
        "id": "29a06537",
        "outputId": "9f705bf2-1c8c-4d46-f67e-1dd7fed5c9fb"
      },
      "outputs": [
        {
          "output_type": "execute_result",
          "data": {
            "text/plain": [
              "0.5165831289324944"
            ]
          },
          "metadata": {},
          "execution_count": 96
        }
      ],
      "source": [
        "#Otra forma de calcular la puntuación F1\n",
        "conf_matrix[1, 1] / (conf_matrix[1, 1] + (conf_matrix[1, 0] + conf_matrix[0, 1])/2)"
      ]
    },
    {
      "cell_type": "code",
      "execution_count": 97,
      "id": "df1a71be",
      "metadata": {
        "colab": {
          "base_uri": "https://localhost:8080/"
        },
        "id": "df1a71be",
        "outputId": "603dd55a-ac2c-4584-c1eb-fe3cc64346db"
      },
      "outputs": [
        {
          "output_type": "execute_result",
          "data": {
            "text/plain": [
              "array([1.49039396])"
            ]
          },
          "metadata": {},
          "execution_count": 97
        }
      ],
      "source": [
        "#Calculamos los puntajes de decisión\n",
        "y_scores = sgd_clf.decision_function([some_digit])\n",
        "y_scores"
      ]
    },
    {
      "cell_type": "code",
      "execution_count": 98,
      "id": "4bab76de",
      "metadata": {
        "colab": {
          "base_uri": "https://localhost:8080/"
        },
        "id": "4bab76de",
        "outputId": "3a565289-8601-42a6-b195-b899ddab2927"
      },
      "outputs": [
        {
          "output_type": "execute_result",
          "data": {
            "text/plain": [
              "array([False])"
            ]
          },
          "metadata": {},
          "execution_count": 98
        }
      ],
      "source": [
        "#Predecimos si el valor es clase + o -\n",
        "threshold = 10000\n",
        "y_some_digit_pred = (y_scores > threshold)\n",
        "y_some_digit_pred"
      ]
    },
    {
      "cell_type": "code",
      "execution_count": 99,
      "id": "005115cc",
      "metadata": {
        "colab": {
          "base_uri": "https://localhost:8080/"
        },
        "id": "005115cc",
        "outputId": "684490b6-c6f8-4866-9718-451c9fa5480e"
      },
      "outputs": [
        {
          "output_type": "execute_result",
          "data": {
            "text/plain": [
              "array([ True])"
            ]
          },
          "metadata": {},
          "execution_count": 99
        }
      ],
      "source": [
        "#Ejemplo secundario\n",
        "threshold = 1\n",
        "y_some_digit_pred = (y_scores > threshold)\n",
        "y_some_digit_pred"
      ]
    },
    {
      "cell_type": "code",
      "execution_count": 99,
      "id": "2f2f1d1a",
      "metadata": {
        "id": "2f2f1d1a"
      },
      "outputs": [],
      "source": []
    },
    {
      "cell_type": "code",
      "execution_count": 154,
      "id": "4e88b31b",
      "metadata": {
        "id": "4e88b31b"
      },
      "outputs": [],
      "source": [
        "#Realizamos la validación cruzada y obtenemos puntajes\n",
        "y_scores = cross_val_predict(sgd_clf, X_train, y_train_bag, cv=3, method=\"decision_function\")"
      ]
    },
    {
      "cell_type": "code",
      "execution_count": 101,
      "id": "5a55958d",
      "metadata": {
        "colab": {
          "base_uri": "https://localhost:8080/"
        },
        "id": "5a55958d",
        "outputId": "4b37ac48-4eb3-486c-9334-9d776efc8741"
      },
      "outputs": [
        {
          "output_type": "execute_result",
          "data": {
            "text/plain": [
              "(60000,)"
            ]
          },
          "metadata": {},
          "execution_count": 101
        }
      ],
      "source": [
        "y_scores.shape"
      ]
    },
    {
      "cell_type": "markdown",
      "id": "9e99a1b2",
      "metadata": {
        "id": "9e99a1b2"
      },
      "source": [
        "### Recall Curve"
      ]
    },
    {
      "cell_type": "code",
      "execution_count": 155,
      "id": "e106e43b",
      "metadata": {
        "id": "e106e43b"
      },
      "outputs": [],
      "source": [
        "#Realizamos las curvas de precisión y recuperación\n",
        "from sklearn.metrics import precision_recall_curve\n",
        "\n",
        "precisions, recalls, thresholds = precision_recall_curve(y_train_bag, y_scores)"
      ]
    },
    {
      "cell_type": "code",
      "execution_count": 103,
      "id": "d4911671",
      "metadata": {
        "colab": {
          "base_uri": "https://localhost:8080/",
          "height": 399
        },
        "id": "d4911671",
        "outputId": "1764a51f-703d-4a3d-ee08-8d09d5d529b4"
      },
      "outputs": [
        {
          "output_type": "display_data",
          "data": {
            "text/plain": [
              "<Figure size 800x400 with 1 Axes>"
            ],
            "image/png": "[encoded data removed]"
          },
          "metadata": {}
        }
      ],
      "source": [
        "def plot_precision_recall_vs_threshold(precisions, recalls, thresholds):\n",
        "    plt.plot(thresholds, precisions[:-1], \"b--\", label=\"Precision\", linewidth=2)\n",
        "    plt.plot(thresholds, recalls[:-1], \"g-\", label=\"Recall\", linewidth=2)\n",
        "    plt.xlabel(\"Threshold\", fontsize=16)\n",
        "    plt.legend(loc=\"upper left\", fontsize=16)\n",
        "    plt.ylim([0, 1])\n",
        "\n",
        "plt.figure(figsize=(8, 4))\n",
        "plot_precision_recall_vs_threshold(precisions, recalls, thresholds)\n",
        "plt.xlim([-25, 25])\n",
        "plt.show()"
      ]
    },
    {
      "cell_type": "code",
      "execution_count": 156,
      "id": "3c6f84be",
      "metadata": {
        "id": "3c6f84be"
      },
      "outputs": [],
      "source": [
        "#Realizamos la curva ROC\n",
        "from sklearn.metrics import roc_curve\n",
        "fpr, tpr, thresholds = roc_curve(y_train_bag, y_scores)"
      ]
    },
    {
      "cell_type": "code",
      "execution_count": 105,
      "id": "c8b3db69",
      "metadata": {
        "colab": {
          "base_uri": "https://localhost:8080/",
          "height": 553
        },
        "id": "c8b3db69",
        "outputId": "15ded607-dc4d-4d55-e098-7b63fc5455ca"
      },
      "outputs": [
        {
          "output_type": "display_data",
          "data": {
            "text/plain": [
              "<Figure size 800x600 with 1 Axes>"
            ],
            "image/png": "[encoded data removed]"
          },
          "metadata": {}
        }
      ],
      "source": [
        "def plot_roc_curve(fpr, tpr, label=None):\n",
        "    plt.plot(fpr, tpr, linewidth=2, label=label)\n",
        "    plt.plot([0,1],[0,1],'k--')\n",
        "    plt.axis([0,1,0,1])\n",
        "    plt.xlabel('False Positive Rate', fontsize=16)\n",
        "    plt.ylabel('True Positive Rate', fontsize=16)\n",
        "\n",
        "plt.figure(figsize=(8,6))\n",
        "plot_roc_curve(fpr, tpr)\n",
        "plt.show()"
      ]
    },
    {
      "cell_type": "code",
      "execution_count": 157,
      "id": "0880a63a",
      "metadata": {
        "colab": {
          "base_uri": "https://localhost:8080/"
        },
        "id": "0880a63a",
        "outputId": "fa734970-1f69-41f2-afb7-17821d2f4a55"
      },
      "outputs": [
        {
          "output_type": "execute_result",
          "data": {
            "text/plain": [
              "0.9891433734567899"
            ]
          },
          "metadata": {},
          "execution_count": 157
        }
      ],
      "source": [
        "#Calculamos el área bajo la curva ROC (AUC-ROC)\n",
        "from sklearn.metrics import roc_auc_score\n",
        "\n",
        "roc_auc_score(y_train_bag, y_scores)"
      ]
    },
    {
      "cell_type": "markdown",
      "id": "24466b07",
      "metadata": {
        "id": "24466b07"
      },
      "source": [
        "### RandomForest"
      ]
    },
    {
      "cell_type": "code",
      "execution_count": 158,
      "id": "e64e9279",
      "metadata": {
        "id": "e64e9279"
      },
      "outputs": [],
      "source": [
        "#Generamos un Random Forest Classifier\n",
        "from sklearn.ensemble import RandomForestClassifier\n",
        "forest_clf = RandomForestClassifier(n_estimators=10, random_state=42)\n",
        "\n",
        "#Obtenemos las probabilidades de predicción\n",
        "y_probas_forest = cross_val_predict(forest_clf, X_train, y_train_bag, cv=3, method='predict_proba')"
      ]
    },
    {
      "cell_type": "code",
      "execution_count": 159,
      "id": "2b40456d",
      "metadata": {
        "id": "2b40456d"
      },
      "outputs": [],
      "source": [
        "#Realizamos la curva ROC\n",
        "y_scores_forest = y_probas_forest[:,1]\n",
        "fpr_forest, tpr_forest, threshold_forest = roc_curve(y_train_bag, y_scores_forest)"
      ]
    },
    {
      "cell_type": "code",
      "execution_count": 109,
      "id": "cded4838",
      "metadata": {
        "colab": {
          "base_uri": "https://localhost:8080/",
          "height": 553
        },
        "id": "cded4838",
        "outputId": "70805333-c067-4580-cde3-68799b91203d"
      },
      "outputs": [
        {
          "output_type": "display_data",
          "data": {
            "text/plain": [
              "<Figure size 800x600 with 1 Axes>"
            ],
            "image/png": "[encoded data removed]"
          },
          "metadata": {}
        }
      ],
      "source": [
        "#Graficamos la curva ROC y la curva ROC del forest para ver la diferencia\n",
        "plt.figure(figsize=(8,6))\n",
        "plt.plot(fpr,tpr,\"b:\",linewidth=2,label=\"SGD\")\n",
        "plot_roc_curve(fpr_forest, tpr_forest)"
      ]
    },
    {
      "cell_type": "code",
      "execution_count": 160,
      "id": "0fe4e7a5",
      "metadata": {
        "colab": {
          "base_uri": "https://localhost:8080/"
        },
        "id": "0fe4e7a5",
        "outputId": "1f8e50d1-f6d6-4d50-bce2-300f163abcd6"
      },
      "outputs": [
        {
          "output_type": "execute_result",
          "data": {
            "text/plain": [
              "0.9933108564814814"
            ]
          },
          "metadata": {},
          "execution_count": 160
        }
      ],
      "source": [
        "#Calculmos el área bajo la curva ROC de forest\n",
        "roc_auc_score(y_train_bag,y_scores_forest)"
      ]
    },
    {
      "cell_type": "code",
      "execution_count": 161,
      "id": "2f589a76",
      "metadata": {
        "colab": {
          "base_uri": "https://localhost:8080/"
        },
        "id": "2f589a76",
        "outputId": "becd50de-fb4e-452b-e8ef-461daf47e8f0"
      },
      "outputs": [
        {
          "output_type": "execute_result",
          "data": {
            "text/plain": [
              "0.9800315291644771"
            ]
          },
          "metadata": {},
          "execution_count": 161
        }
      ],
      "source": [
        "#Obtenemos el valor de precisión del clasificador\n",
        "y_train_pred_forest = cross_val_predict(forest_clf, X_train, y_train_bag,cv=3)\n",
        "precision_score(y_train_bag,y_train_pred_forest)"
      ]
    },
    {
      "cell_type": "code",
      "execution_count": 162,
      "id": "fd6c5f32",
      "metadata": {
        "colab": {
          "base_uri": "https://localhost:8080/"
        },
        "id": "fd6c5f32",
        "outputId": "de6af616-5458-40c9-b5d1-95f4b371ae6a"
      },
      "outputs": [
        {
          "output_type": "execute_result",
          "data": {
            "text/plain": [
              "0.9325"
            ]
          },
          "metadata": {},
          "execution_count": 162
        }
      ],
      "source": [
        "#Calculamos el valor de recuperación (recall) del clasificador\n",
        "recall_score(y_train_bag, y_train_pred_forest)"
      ]
    },
    {
      "cell_type": "markdown",
      "id": "acae079b",
      "metadata": {
        "id": "acae079b"
      },
      "source": [
        "## Multi-Clasification"
      ]
    },
    {
      "cell_type": "code",
      "execution_count": 113,
      "id": "c5d02108",
      "metadata": {
        "colab": {
          "base_uri": "https://localhost:8080/",
          "height": 75
        },
        "id": "c5d02108",
        "outputId": "c3509d87-0b8d-4e20-d9ae-d7851f4e98fb"
      },
      "outputs": [
        {
          "output_type": "execute_result",
          "data": {
            "text/plain": [
              "SGDClassifier(max_iter=2000, random_state=42, tol=1e-05)"
            ],
            "text/html": [
              "<style>#sk-container-id-4 {color: black;background-color: white;}#sk-container-id-4 pre{padding: 0;}#sk-container-id-4 div.sk-toggleable {background-color: white;}#sk-container-id-4 label.sk-toggleable__label {cursor: pointer;display: block;width: 100%;margin-bottom: 0;padding: 0.3em;box-sizing: border-box;text-align: center;}#sk-container-id-4 label.sk-toggleable__label-arrow:before {content: \"▸\";float: left;margin-right: 0.25em;color: #696969;}#sk-container-id-4 label.sk-toggleable__label-arrow:hover:before {color: black;}#sk-container-id-4 div.sk-estimator:hover label.sk-toggleable__label-arrow:before {color: black;}#sk-container-id-4 div.sk-toggleable__content {max-height: 0;max-width: 0;overflow: hidden;text-align: left;background-color: #f0f8ff;}#sk-container-id-4 div.sk-toggleable__content pre {margin: 0.2em;color: black;border-radius: 0.25em;background-color: #f0f8ff;}#sk-container-id-4 input.sk-toggleable__control:checked~div.sk-toggleable__content {max-height: 200px;max-width: 100%;overflow: auto;}#sk-container-id-4 input.sk-toggleable__control:checked~label.sk-toggleable__label-arrow:before {content: \"▾\";}#sk-container-id-4 div.sk-estimator input.sk-toggleable__control:checked~label.sk-toggleable__label {background-color: #d4ebff;}#sk-container-id-4 div.sk-label input.sk-toggleable__control:checked~label.sk-toggleable__label {background-color: #d4ebff;}#sk-container-id-4 input.sk-hidden--visually {border: 0;clip: rect(1px 1px 1px 1px);clip: rect(1px, 1px, 1px, 1px);height: 1px;margin: -1px;overflow: hidden;padding: 0;position: absolute;width: 1px;}#sk-container-id-4 div.sk-estimator {font-family: monospace;background-color: #f0f8ff;border: 1px dotted black;border-radius: 0.25em;box-sizing: border-box;margin-bottom: 0.5em;}#sk-container-id-4 div.sk-estimator:hover {background-color: #d4ebff;}#sk-container-id-4 div.sk-parallel-item::after {content: \"\";width: 100%;border-bottom: 1px solid gray;flex-grow: 1;}#sk-container-id-4 div.sk-label:hover label.sk-toggleable__label {background-color: #d4ebff;}#sk-container-id-4 div.sk-serial::before {content: \"\";position: absolute;border-left: 1px solid gray;box-sizing: border-box;top: 0;bottom: 0;left: 50%;z-index: 0;}#sk-container-id-4 div.sk-serial {display: flex;flex-direction: column;align-items: center;background-color: white;padding-right: 0.2em;padding-left: 0.2em;position: relative;}#sk-container-id-4 div.sk-item {position: relative;z-index: 1;}#sk-container-id-4 div.sk-parallel {display: flex;align-items: stretch;justify-content: center;background-color: white;position: relative;}#sk-container-id-4 div.sk-item::before, #sk-container-id-4 div.sk-parallel-item::before {content: \"\";position: absolute;border-left: 1px solid gray;box-sizing: border-box;top: 0;bottom: 0;left: 50%;z-index: -1;}#sk-container-id-4 div.sk-parallel-item {display: flex;flex-direction: column;z-index: 1;position: relative;background-color: white;}#sk-container-id-4 div.sk-parallel-item:first-child::after {align-self: flex-end;width: 50%;}#sk-container-id-4 div.sk-parallel-item:last-child::after {align-self: flex-start;width: 50%;}#sk-container-id-4 div.sk-parallel-item:only-child::after {width: 0;}#sk-container-id-4 div.sk-dashed-wrapped {border: 1px dashed gray;margin: 0 0.4em 0.5em 0.4em;box-sizing: border-box;padding-bottom: 0.4em;background-color: white;}#sk-container-id-4 div.sk-label label {font-family: monospace;font-weight: bold;display: inline-block;line-height: 1.2em;}#sk-container-id-4 div.sk-label-container {text-align: center;}#sk-container-id-4 div.sk-container {/* jupyter's `normalize.less` sets `[hidden] { display: none; }` but bootstrap.min.css set `[hidden] { display: none !important; }` so we also need the `!important` here to be able to override the default hidden behavior on the sphinx rendered scikit-learn.org. See: https://github.com/scikit-learn/scikit-learn/issues/21755 */display: inline-block !important;position: relative;}#sk-container-id-4 div.sk-text-repr-fallback {display: none;}</style><div id=\"sk-container-id-4\" class=\"sk-top-container\"><div class=\"sk-text-repr-fallback\"><pre>SGDClassifier(max_iter=2000, random_state=42, tol=1e-05)</pre><b>In a Jupyter environment, please rerun this cell to show the HTML representation or trust the notebook. <br />On GitHub, the HTML representation is unable to render, please try loading this page with nbviewer.org.</b></div><div class=\"sk-container\" hidden><div class=\"sk-item\"><div class=\"sk-estimator sk-toggleable\"><input class=\"sk-toggleable__control sk-hidden--visually\" id=\"sk-estimator-id-4\" type=\"checkbox\" checked><label for=\"sk-estimator-id-4\" class=\"sk-toggleable__label sk-toggleable__label-arrow\">SGDClassifier</label><div class=\"sk-toggleable__content\"><pre>SGDClassifier(max_iter=2000, random_state=42, tol=1e-05)</pre></div></div></div></div></div>"
            ]
          },
          "metadata": {},
          "execution_count": 113
        }
      ],
      "source": [
        "#Generamos un clasificador para entrenamiento\n",
        "from sklearn.linear_model import SGDClassifier\n",
        "sgd_clf=SGDClassifier(max_iter=2000,tol=0.00001,random_state=42)\n",
        "sgd_clf.fit(X_train,y_train)"
      ]
    },
    {
      "cell_type": "code",
      "execution_count": 114,
      "id": "2496b377",
      "metadata": {
        "colab": {
          "base_uri": "https://localhost:8080/"
        },
        "id": "2496b377",
        "outputId": "1aa3997b-1dd1-4bd4-a0f3-24e2b4336968"
      },
      "outputs": [
        {
          "output_type": "stream",
          "name": "stdout",
          "text": [
            "[-1.         -1.         -1.         -1.         -1.         -1.\n",
            " -1.         -1.         -1.         -1.         -1.         -1.\n",
            " -0.09803922 -0.50588235 -0.83529412 -0.81960784 -0.71764706 -1.\n",
            " -1.         -1.         -1.         -1.         -1.         -1.\n",
            " -1.         -1.         -1.         -1.         -1.         -1.\n",
            " -1.         -1.         -1.         -1.         -1.         -1.\n",
            " -1.         -1.         -1.         -0.45098039  0.34117647 -0.1372549\n",
            " -0.68627451  0.58431373  0.34117647 -1.         -1.         -1.\n",
            " -1.         -1.         -1.         -1.         -1.         -1.\n",
            " -1.         -1.         -1.         -1.         -1.         -1.\n",
            " -1.         -1.         -1.         -1.         -0.97647059 -0.60784314\n",
            "  0.05882353  0.45882353 -0.17647059  0.01960784 -0.17647059  0.79607843\n",
            " -0.68627451 -0.91372549 -0.74117647 -0.95294118 -1.         -1.\n",
            " -1.         -1.         -1.         -1.         -1.         -1.\n",
            " -1.         -1.         -1.         -1.         -1.         -1.\n",
            " -0.83529412 -0.59215686 -0.60784314 -0.4745098  -0.43529412 -0.1372549\n",
            "  0.30980392  0.28627451  1.         -0.23921569 -1.         -0.75686275\n",
            " -0.79607843 -0.52941176 -0.68627451 -0.84313725 -1.         -1.\n",
            " -1.         -1.         -1.         -1.         -1.         -1.\n",
            " -1.         -1.         -1.         -0.8745098  -0.1372549  -0.60784314\n",
            " -0.6627451  -0.68627451 -0.54509804 -0.67843137 -0.8745098   0.19215686\n",
            "  0.6        -1.         -0.76470588 -0.88235294 -0.71764706 -0.7254902\n",
            " -0.62352941 -0.68627451 -0.96078431 -1.         -1.         -1.\n",
            " -1.         -1.         -1.         -1.         -1.         -1.\n",
            " -1.         -0.52941176 -0.25490196 -0.45098039 -0.67843137 -0.6627451\n",
            " -0.74117647 -0.63921569 -0.84313725 -0.08235294 -1.         -0.9372549\n",
            " -0.78039216 -0.7254902  -0.79607843 -0.81960784 -0.64705882 -0.84313725\n",
            " -0.84313725 -1.         -1.         -1.         -1.         -1.\n",
            " -1.         -1.         -1.         -1.         -1.         -0.31764706\n",
            " -0.52941176 -0.17647059 -0.58431373 -0.75686275 -0.75686275 -0.70196078\n",
            " -0.60784314 -0.1372549  -0.92156863 -0.7254902  -0.80392157 -0.71764706\n",
            " -0.81960784 -0.78039216 -0.76470588 -0.76470588 -0.78039216 -1.\n",
            " -1.         -1.         -1.         -1.         -1.         -1.\n",
            " -1.         -1.         -1.         -0.08235294 -0.64705882 -0.04313725\n",
            " -0.30980392 -0.85882353 -0.78039216 -0.55294118 -0.62352941 -0.37254902\n",
            " -0.8745098  -0.63921569 -0.81960784 -0.80392157 -0.7254902  -0.79607843\n",
            " -0.91372549 -0.55294118 -0.85882353 -0.97647059 -1.         -1.\n",
            " -1.         -1.         -1.         -1.         -1.         -1.\n",
            " -0.89803922 -0.16078431 -0.70196078  0.05882353  0.05882353 -0.99215686\n",
            " -0.68627451 -0.51372549 -0.67843137 -0.4745098  -0.79607843 -0.55294118\n",
            " -0.78039216 -0.79607843 -0.75686275 -0.97647059 -0.81960784 -0.46666667\n",
            " -0.9372549  -0.8745098  -1.         -1.         -1.         -1.\n",
            " -1.         -1.         -1.         -1.         -0.52941176 -0.46666667\n",
            " -0.68627451  0.16862745  0.23137255 -1.         -0.52941176 -0.54509804\n",
            " -0.76470588 -0.38823529 -0.91372549 -0.52941176 -0.85882353 -0.81960784\n",
            " -0.8745098  -1.         -0.05882353 -0.78039216 -0.88235294 -0.84313725\n",
            " -1.         -1.         -1.         -1.         -1.         -1.\n",
            " -1.         -1.         -0.04313725 -0.55294118 -0.84313725  0.3254902\n",
            "  0.09803922 -0.9372549  -0.58431373 -0.67843137 -0.80392157 -0.29411765\n",
            " -1.         -0.41176471 -0.80392157 -0.85882353 -0.8745098  -0.99215686\n",
            " -0.23921569 -0.84313725 -0.78039216 -0.8745098  -1.         -1.\n",
            " -1.         -1.         -1.         -1.         -1.         -1.\n",
            " -0.35686275 -0.59215686 -0.70196078  0.63921569  0.38039216 -1.\n",
            " -0.59215686 -0.70196078 -0.76470588 -0.27843137 -1.         -0.45098039\n",
            " -0.79607843 -0.95294118 -0.91372549 -0.96078431 -0.27843137 -0.62352941\n",
            " -0.88235294 -0.89803922 -1.         -1.         -1.         -1.\n",
            " -1.         -1.         -1.         -1.         -1.         -1.\n",
            " -1.          0.34117647  0.05882353 -0.79607843 -0.64705882 -0.75686275\n",
            " -0.74117647 -0.49019608 -0.9372549  -0.52941176 -0.63921569 -0.97647059\n",
            " -0.85882353 -0.95294118 -0.34901961 -0.84313725 -1.         -1.\n",
            " -1.         -1.         -1.         -1.         -1.         -1.\n",
            " -1.         -1.         -1.         -1.         -1.         -1.\n",
            " -0.2        -0.52941176 -0.80392157 -0.76470588 -0.70196078 -0.35686275\n",
            " -0.99215686 -0.68627451 -0.46666667 -0.9372549  -0.76470588 -0.84313725\n",
            " -1.         -1.         -1.         -1.         -1.         -1.\n",
            " -1.         -1.         -1.         -1.         -1.         -1.\n",
            " -1.         -1.         -1.         -1.          0.01960784 -0.45098039\n",
            " -0.84313725 -0.75686275 -0.60784314 -0.37254902 -0.95294118 -0.84313725\n",
            " -0.4745098  -0.9372549  -0.81960784 -0.79607843 -1.         -1.\n",
            " -1.         -1.         -1.         -1.         -1.         -1.\n",
            " -1.         -1.         -1.         -1.         -0.99215686 -1.\n",
            " -1.         -1.          0.05882353 -0.46666667 -0.88235294 -0.71764706\n",
            " -0.54509804 -0.45098039 -0.75686275 -0.8745098  -0.62352941 -0.74117647\n",
            " -0.88235294 -0.76470588 -1.         -1.         -1.         -1.\n",
            " -1.         -1.         -1.         -1.         -1.         -1.\n",
            " -1.         -1.         -1.         -1.         -1.         -1.\n",
            "  0.15294118 -0.45098039 -0.96078431 -0.70196078 -0.58431373 -0.43529412\n",
            " -0.88235294 -0.85882353 -0.67843137 -0.68627451 -0.92156863 -0.78039216\n",
            " -1.         -1.         -1.         -1.         -1.         -1.\n",
            " -1.         -1.         -1.         -1.         -1.         -1.\n",
            " -1.         -1.         -1.         -1.          0.30980392 -0.42745098\n",
            " -1.         -0.62352941 -0.62352941 -0.33333333 -0.92156863 -0.84313725\n",
            " -0.78039216 -0.67843137 -0.88235294 -0.78039216 -0.96078431 -1.\n",
            " -1.         -1.         -1.         -1.         -1.         -1.\n",
            " -1.         -1.         -1.         -1.         -1.         -1.\n",
            " -1.         -1.          0.09803922 -0.39607843 -1.         -0.59215686\n",
            " -0.63921569 -0.38823529 -0.80392157 -0.89803922 -0.78039216 -0.71764706\n",
            " -0.84313725 -0.80392157 -0.99215686 -1.         -1.         -1.\n",
            " -1.         -1.         -1.         -1.         -1.         -1.\n",
            " -1.         -1.         -1.         -1.         -1.         -1.\n",
            "  0.15294118 -0.38823529 -1.         -0.55294118 -0.68627451 -0.51372549\n",
            " -0.64705882 -0.88235294 -0.81960784 -0.70196078 -0.84313725 -0.80392157\n",
            " -0.99215686 -1.         -1.         -1.         -1.         -1.\n",
            " -1.         -1.         -1.         -1.         -1.         -1.\n",
            " -1.         -1.         -1.         -1.          0.16862745 -0.34901961\n",
            " -1.         -0.56862745 -0.7254902  -0.45098039 -0.83529412 -0.8745098\n",
            " -0.8745098  -0.71764706 -0.83529412 -0.80392157 -0.97647059 -1.\n",
            " -1.         -1.         -1.         -1.         -1.         -1.\n",
            " -1.         -1.         -1.         -1.         -1.         -0.99215686\n",
            " -1.         -0.84313725  0.17647059 -0.31764706 -1.         -0.67843137\n",
            " -0.7254902  -0.41176471 -0.78039216 -0.84313725 -0.83529412 -0.75686275\n",
            " -0.79607843 -0.81960784 -0.97647059 -1.         -1.         -1.\n",
            " -1.         -1.         -1.         -1.         -1.         -1.\n",
            " -1.         -1.         -1.         -1.         -1.         -0.67843137\n",
            "  0.15294118 -0.30980392 -1.         -0.78039216 -0.67843137 -0.34901961\n",
            " -0.67843137 -0.84313725 -0.81960784 -0.79607843 -0.76470588 -0.81960784\n",
            " -0.95294118 -1.         -1.         -1.         -1.         -1.\n",
            " -1.         -1.         -1.         -1.         -1.         -1.\n",
            " -1.         -0.99215686 -1.         -0.56862745  0.11372549 -0.31764706\n",
            " -0.8745098  -0.85882353 -0.64705882 -0.14509804 -0.84313725 -0.88235294\n",
            " -0.85882353 -0.80392157 -0.78039216 -0.80392157 -0.89803922 -1.\n",
            " -0.99215686 -0.99215686 -1.         -1.         -1.         -1.\n",
            " -1.         -1.         -1.         -1.         -1.         -0.99215686\n",
            " -1.         -0.46666667  0.03529412 -0.39607843 -0.76470588 -0.89803922\n",
            " -0.71764706 -0.04313725 -0.84313725 -0.91372549 -0.81960784 -0.80392157\n",
            " -0.80392157 -0.80392157 -0.88235294 -1.         -1.         -1.\n",
            " -1.         -1.         -1.         -1.         -1.         -1.\n",
            " -1.         -1.         -1.         -0.99215686 -1.         -0.33333333\n",
            " -0.02745098 -0.49019608 -0.64705882 -0.76470588 -0.91372549 -0.1372549\n",
            " -0.64705882 -0.9372549  -0.80392157 -0.80392157 -0.83529412 -0.76470588\n",
            " -0.81960784 -1.         -1.         -1.         -1.         -1.\n",
            " -1.         -1.         -1.         -1.         -1.         -1.\n",
            " -1.         -1.         -1.         -0.97647059 -0.35686275 -0.33333333\n",
            " -0.52941176 -0.60784314 -0.79607843  0.03529412 -0.4745098  -0.91372549\n",
            " -0.74117647 -0.71764706 -0.79607843 -0.84313725 -0.9372549  -1.\n",
            " -1.         -1.         -1.         -1.         -1.         -1.\n",
            " -1.         -1.         -1.         -1.         -1.         -1.\n",
            " -1.         -1.         -1.         -1.         -0.9372549  -0.95294118\n",
            " -0.99215686 -0.50588235 -0.64705882 -1.         -0.96078431 -0.9372549\n",
            " -1.         -1.         -1.         -1.         -1.         -1.\n",
            " -1.         -1.         -1.         -1.        ]\n"
          ]
        },
        {
          "output_type": "execute_result",
          "data": {
            "text/plain": [
              "array([6], dtype=uint8)"
            ]
          },
          "metadata": {},
          "execution_count": 114
        }
      ],
      "source": [
        "#Clasificamos la categoria del valor de some_digit\n",
        "some_digit = X_train[26000]\n",
        "print(some_digit)\n",
        "sgd_clf.predict([some_digit])"
      ]
    },
    {
      "cell_type": "code",
      "execution_count": 115,
      "id": "5c729b58",
      "metadata": {
        "id": "5c729b58",
        "colab": {
          "base_uri": "https://localhost:8080/"
        },
        "outputId": "1f832248-b1e9-4497-c027-3913afc251c5"
      },
      "outputs": [
        {
          "output_type": "execute_result",
          "data": {
            "text/plain": [
              "array([[ -0.91483177,  -5.47838862,  -3.85650393,  -2.81305357,\n",
              "         -2.454349  , -10.7909938 ,   2.2141627 , -19.79548762,\n",
              "         -5.41717187, -12.93289333]])"
            ]
          },
          "metadata": {},
          "execution_count": 115
        }
      ],
      "source": [
        "#Calculamos los puntajes de decisión para some_digit\n",
        "some_digit_scores = sgd_clf.decision_function([some_digit])\n",
        "some_digit_scores"
      ]
    },
    {
      "cell_type": "code",
      "execution_count": 116,
      "id": "6843295a",
      "metadata": {
        "colab": {
          "base_uri": "https://localhost:8080/"
        },
        "id": "6843295a",
        "outputId": "2bcf49c1-79eb-4833-de5e-ad12cdc4286a"
      },
      "outputs": [
        {
          "output_type": "execute_result",
          "data": {
            "text/plain": [
              "6"
            ]
          },
          "metadata": {},
          "execution_count": 116
        }
      ],
      "source": [
        "#Encontramos el índice del puntaje de decisión más alto en el array\n",
        "np.argmax(some_digit_scores)"
      ]
    },
    {
      "cell_type": "code",
      "execution_count": 117,
      "id": "c9641fbd",
      "metadata": {
        "colab": {
          "base_uri": "https://localhost:8080/"
        },
        "id": "c9641fbd",
        "outputId": "01216d59-512f-48a0-e554-2547df30ce07"
      },
      "outputs": [
        {
          "output_type": "execute_result",
          "data": {
            "text/plain": [
              "array([0, 1, 2, 3, 4, 5, 6, 7, 8, 9], dtype=uint8)"
            ]
          },
          "metadata": {},
          "execution_count": 117
        }
      ],
      "source": [
        "#Contiene una lista ordenada de las categorías a las que se refieren los puntajes de decisión\n",
        "sgd_clf.classes_"
      ]
    },
    {
      "cell_type": "code",
      "execution_count": 118,
      "id": "3c58f376",
      "metadata": {
        "colab": {
          "base_uri": "https://localhost:8080/"
        },
        "id": "3c58f376",
        "outputId": "5141511f-1ed1-426a-d965-8f2ff0793ff5"
      },
      "outputs": [
        {
          "output_type": "execute_result",
          "data": {
            "text/plain": [
              "6"
            ]
          },
          "metadata": {},
          "execution_count": 118
        }
      ],
      "source": [
        "#Seleccionamos la categoría 6\n",
        "sgd_clf.classes_[6]"
      ]
    },
    {
      "cell_type": "code",
      "execution_count": 119,
      "id": "3a901c1b",
      "metadata": {
        "colab": {
          "base_uri": "https://localhost:8080/"
        },
        "id": "3a901c1b",
        "outputId": "afe98aeb-d685-435a-d5b2-55e8c8208626"
      },
      "outputs": [
        {
          "output_type": "execute_result",
          "data": {
            "text/plain": [
              "array([6], dtype=uint8)"
            ]
          },
          "metadata": {},
          "execution_count": 119
        }
      ],
      "source": [
        "#Entrenamos un clasificador multiclase\n",
        "from sklearn.multiclass import OneVsOneClassifier\n",
        "ovo_clf = OneVsOneClassifier(SGDClassifier(max_iter=1000,tol=0.00001,random_state=42))\n",
        "ovo_clf.fit(X_train,y_train)\n",
        "#Predecimos la categoría para some_digit en el enfoque multiclase \"One-vs-One\".\n",
        "ovo_clf.predict([some_digit])"
      ]
    },
    {
      "cell_type": "code",
      "execution_count": 120,
      "id": "5a701518",
      "metadata": {
        "colab": {
          "base_uri": "https://localhost:8080/"
        },
        "id": "5a701518",
        "outputId": "7e5da7cd-bfda-40e4-cf8b-455bd8bf0d69"
      },
      "outputs": [
        {
          "output_type": "execute_result",
          "data": {
            "text/plain": [
              "45"
            ]
          },
          "metadata": {},
          "execution_count": 120
        }
      ],
      "source": [
        "#Mostramos el número de clasificadores binarios\n",
        "len(ovo_clf.estimators_)"
      ]
    },
    {
      "cell_type": "code",
      "execution_count": 121,
      "id": "464620b0",
      "metadata": {
        "colab": {
          "base_uri": "https://localhost:8080/"
        },
        "id": "464620b0",
        "outputId": "fc814f28-bfb8-4a31-9002-2da7c0f806c8"
      },
      "outputs": [
        {
          "output_type": "execute_result",
          "data": {
            "text/plain": [
              "array([6], dtype=uint8)"
            ]
          },
          "metadata": {},
          "execution_count": 121
        }
      ],
      "source": [
        "#Entrenamos un clasificador RandomForestClassifier / predecimos la categoría de some_digit\n",
        "forest_clf.fit(X_train,y_train)\n",
        "forest_clf.predict([some_digit])"
      ]
    },
    {
      "cell_type": "code",
      "execution_count": 122,
      "id": "da8d89fc",
      "metadata": {
        "colab": {
          "base_uri": "https://localhost:8080/"
        },
        "id": "da8d89fc",
        "outputId": "bfff86ad-5743-4192-b763-a1cc05aaa54e"
      },
      "outputs": [
        {
          "output_type": "execute_result",
          "data": {
            "text/plain": [
              "array([[0., 0., 0., 0., 0., 0., 1., 0., 0., 0.]])"
            ]
          },
          "metadata": {},
          "execution_count": 122
        }
      ],
      "source": [
        "#Obtenemos las probabilidades de predicción estimadas por el clasificador\n",
        "forest_clf.predict_proba([some_digit])"
      ]
    },
    {
      "cell_type": "code",
      "execution_count": 123,
      "id": "c94f2d2c",
      "metadata": {
        "colab": {
          "base_uri": "https://localhost:8080/"
        },
        "id": "c94f2d2c",
        "outputId": "51b11315-ea0e-4cc5-f2ef-e123536cac0f"
      },
      "outputs": [
        {
          "output_type": "execute_result",
          "data": {
            "text/plain": [
              "array([0.83895, 0.8463 , 0.84865])"
            ]
          },
          "metadata": {},
          "execution_count": 123
        }
      ],
      "source": [
        "#Realizamos la validación cruzada y evaluamos el rendimiento de un clasificador SGDClassifier en términos de precisión (accuracy)\n",
        "cross_val_score(sgd_clf,X_train,y_train,cv=3,scoring=\"accuracy\")"
      ]
    },
    {
      "cell_type": "code",
      "execution_count": 63,
      "id": "9168f134",
      "metadata": {
        "colab": {
          "base_uri": "https://localhost:8080/"
        },
        "id": "9168f134",
        "outputId": "4dbcee15-b6a4-4474-c511-36b25e91e383"
      },
      "outputs": [
        {
          "output_type": "stream",
          "name": "stderr",
          "text": [
            "/usr/local/lib/python3.10/dist-packages/sklearn/linear_model/_stochastic_gradient.py:702: ConvergenceWarning: Maximum number of iteration reached before convergence. Consider increasing max_iter to improve the fit.\n",
            "  warnings.warn(\n",
            "/usr/local/lib/python3.10/dist-packages/sklearn/linear_model/_stochastic_gradient.py:702: ConvergenceWarning: Maximum number of iteration reached before convergence. Consider increasing max_iter to improve the fit.\n",
            "  warnings.warn(\n",
            "/usr/local/lib/python3.10/dist-packages/sklearn/linear_model/_stochastic_gradient.py:702: ConvergenceWarning: Maximum number of iteration reached before convergence. Consider increasing max_iter to improve the fit.\n",
            "  warnings.warn(\n"
          ]
        },
        {
          "output_type": "execute_result",
          "data": {
            "text/plain": [
              "array([0.8286 , 0.8339 , 0.83655])"
            ]
          },
          "metadata": {},
          "execution_count": 63
        }
      ],
      "source": [
        "#Realizamos una escalación de características utilizando StandardScaler y utilizamos la función cross_val_score para realizar validación cruzada y evaluar el rendimiento de un clasificador\n",
        "from sklearn.preprocessing import StandardScaler\n",
        "\n",
        "scaler=StandardScaler()\n",
        "X_train_scaled = scaler.fit_transform(X_train.astype(np.float64))\n",
        "cross_val_score(sgd_clf, X_train_scaled, y_train, cv=3, scoring=\"accuracy\")\n",
        "#No se pudo evaluar ni con 10k de iteraciones"
      ]
    },
    {
      "cell_type": "markdown",
      "id": "d4b03051",
      "metadata": {
        "id": "d4b03051"
      },
      "source": [
        "## Análisis de Error"
      ]
    },
    {
      "cell_type": "code",
      "execution_count": 124,
      "id": "4a9d88c7",
      "metadata": {
        "id": "4a9d88c7",
        "colab": {
          "base_uri": "https://localhost:8080/"
        },
        "outputId": "f5b1909a-f2be-4c02-a11c-08cd373c3358"
      },
      "outputs": [
        {
          "output_type": "stream",
          "name": "stderr",
          "text": [
            "/usr/local/lib/python3.10/dist-packages/sklearn/linear_model/_stochastic_gradient.py:702: ConvergenceWarning: Maximum number of iteration reached before convergence. Consider increasing max_iter to improve the fit.\n",
            "  warnings.warn(\n",
            "/usr/local/lib/python3.10/dist-packages/sklearn/linear_model/_stochastic_gradient.py:702: ConvergenceWarning: Maximum number of iteration reached before convergence. Consider increasing max_iter to improve the fit.\n",
            "  warnings.warn(\n",
            "/usr/local/lib/python3.10/dist-packages/sklearn/linear_model/_stochastic_gradient.py:702: ConvergenceWarning: Maximum number of iteration reached before convergence. Consider increasing max_iter to improve the fit.\n",
            "  warnings.warn(\n"
          ]
        },
        {
          "output_type": "execute_result",
          "data": {
            "text/plain": [
              "array([[4739,   18,   88,  429,   27,    1,  608,    0,   90,    0],\n",
              "       [  15, 5677,   35,  207,   15,    1,   47,    0,    3,    0],\n",
              "       [  42,    5, 4324,   84,  765,    0,  722,    0,   58,    0],\n",
              "       [ 217,   98,   76, 5191,  191,    0,  214,    0,   13,    0],\n",
              "       [   8,    5,  611,  317, 4434,    0,  603,    0,   22,    0],\n",
              "       [   4,    2,    3,   11,    1, 5489,   19,  278,   73,  120],\n",
              "       [ 806,   18,  633,  344,  533,    0, 3488,    1,  176,    1],\n",
              "       [   0,    0,    0,    0,    0,  315,    0, 5419,   16,  250],\n",
              "       [  31,    3,   28,  118,   31,   11,  143,   31, 5599,    5],\n",
              "       [   0,    0,    0,    6,    2,  105,   10,  252,    4, 5621]])"
            ]
          },
          "metadata": {},
          "execution_count": 124
        }
      ],
      "source": [
        "#Realizamos predicciones en los datos de entrenamiento escalados, y calculamos la matriz de confusión\n",
        "y_train_pred = cross_val_predict(sgd_clf, X_train_scaled, y_train, cv=3)\n",
        "conf_mx = confusion_matrix(y_train, y_train_pred)\n",
        "conf_mx\n",
        "#Tampoco termino de calcular la matriz"
      ]
    },
    {
      "cell_type": "code",
      "execution_count": 125,
      "id": "8c5a7ec2",
      "metadata": {
        "id": "8c5a7ec2"
      },
      "outputs": [],
      "source": [
        "#Definimos la funcion plot_confusion_matrix para crear un gráfico de matriz de confusión\n",
        "def plot_confusion_matrix(matrix):\n",
        "    fig = plt.figure(figsize=(8,8))\n",
        "    ax = fig.add_subplot(111)\n",
        "    cax=ax.matshow(matrix)\n",
        "    fig.colorbar(cax)"
      ]
    },
    {
      "cell_type": "code",
      "execution_count": 126,
      "id": "08ceea1a",
      "metadata": {
        "id": "08ceea1a",
        "colab": {
          "base_uri": "https://localhost:8080/",
          "height": 437
        },
        "outputId": "11f83870-5219-416e-f79d-910fc40d5d40"
      },
      "outputs": [
        {
          "output_type": "display_data",
          "data": {
            "text/plain": [
              "<Figure size 480x480 with 1 Axes>"
            ],
            "image/png": "[encoded data removed]"
          },
          "metadata": {}
        }
      ],
      "source": [
        "#Mostramos la matriz de confusión en escala de grises\n",
        "plt.matshow(conf_mx,cmap=plt.cm.gray)\n",
        "plt.show()"
      ]
    },
    {
      "cell_type": "code",
      "execution_count": 127,
      "id": "a3be2055",
      "metadata": {
        "id": "a3be2055",
        "colab": {
          "base_uri": "https://localhost:8080/",
          "height": 661
        },
        "outputId": "b04a877c-653f-4e92-a6aa-58f9ac0353c5"
      },
      "outputs": [
        {
          "output_type": "display_data",
          "data": {
            "text/plain": [
              "<Figure size 800x800 with 2 Axes>"
            ],
            "image/png": "[encoded data removed]"
          },
          "metadata": {}
        }
      ],
      "source": [
        "#Mostramos la matriz de confusión a color\n",
        "plot_confusion_matrix(conf_mx)\n",
        "plt.show()"
      ]
    }
  ],
  "metadata": {
    "kernelspec": {
      "display_name": "Python 3 (ipykernel)",
      "language": "python",
      "name": "python3"
    },
    "language_info": {
      "codemirror_mode": {
        "name": "ipython",
        "version": 3
      },
      "file_extension": ".py",
      "mimetype": "text/x-python",
      "name": "python",
      "nbconvert_exporter": "python",
      "pygments_lexer": "ipython3",
      "version": "3.10.6"
    },
    "colab": {
      "provenance": [],
      "include_colab_link": true
    }
  },
  "nbformat": 4,
  "nbformat_minor": 5
}